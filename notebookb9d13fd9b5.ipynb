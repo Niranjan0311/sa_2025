{
  "metadata": {
    "kernelspec": {
      "language": "python",
      "display_name": "Python 3",
      "name": "python3"
    },
    "language_info": {
      "name": "python",
      "version": "3.11.11",
      "mimetype": "text/x-python",
      "codemirror_mode": {
        "name": "ipython",
        "version": 3
      },
      "pygments_lexer": "ipython3",
      "nbconvert_exporter": "python",
      "file_extension": ".py"
    },
    "kaggle": {
      "accelerator": "none",
      "dataSources": [
        {
          "sourceId": 12129302,
          "sourceType": "datasetVersion",
          "datasetId": 7637934
        }
      ],
      "dockerImageVersionId": 31040,
      "isInternetEnabled": false,
      "language": "python",
      "sourceType": "notebook",
      "isGpuEnabled": false
    },
    "colab": {
      "name": "notebookb9d13fd9b5",
      "provenance": [],
      "include_colab_link": true
    }
  },
  "nbformat_minor": 0,
  "nbformat": 4,
  "cells": [
    {
      "cell_type": "markdown",
      "metadata": {
        "id": "view-in-github",
        "colab_type": "text"
      },
      "source": [
        "<a href=\"https://colab.research.google.com/github/Niranjan0311/sa_2025/blob/main/notebookb9d13fd9b5.ipynb\" target=\"_parent\"><img src=\"https://colab.research.google.com/assets/colab-badge.svg\" alt=\"Open In Colab\"/></a>"
      ]
    },
    {
      "source": [
        "# IMPORTANT: RUN THIS CELL IN ORDER TO IMPORT YOUR KAGGLE DATA SOURCES,\n",
        "# THEN FEEL FREE TO DELETE THIS CELL.\n",
        "# NOTE: THIS NOTEBOOK ENVIRONMENT DIFFERS FROM KAGGLE'S PYTHON\n",
        "# ENVIRONMENT SO THERE MAY BE MISSING LIBRARIES USED BY YOUR\n",
        "# NOTEBOOK.\n",
        "import kagglehub\n",
        "ratnpandey_summer_analytics_ndvi_data_path = kagglehub.dataset_download('ratnpandey/summer-analytics-ndvi-data')\n",
        "\n",
        "print('Data source import complete.')\n"
      ],
      "metadata": {
        "id": "aRfkIENMVas6"
      },
      "cell_type": "code",
      "outputs": [],
      "execution_count": null
    },
    {
      "cell_type": "code",
      "source": [
        "\n",
        "\n",
        "import numpy as np # linear algebra\n",
        "import pandas as pd # data processing, CSV file I/O (e.g. pd.read_csv)\n",
        "\n",
        "\n",
        "\n",
        "\n",
        "import os\n",
        "for dirname, _, filenames in os.walk('/kaggle/input'):\n",
        "    for filename in filenames:\n",
        "        print(os.path.join(dirname, filename))\n",
        "\n",
        "\n",
        "import pandas as pd\n",
        "import numpy as np\n",
        "from sklearn.linear_model import LogisticRegression\n",
        "from sklearn.pipeline import make_pipeline\n",
        "from sklearn.preprocessing import StandardScaler, LabelEncoder\n",
        "from sklearn.model_selection import cross_val_score\n",
        "import matplotlib.pyplot as plt\n",
        "import seaborn as sns\n",
        "\n",
        "train = pd.read_csv('/kaggle/input/summer-analytics-ndvi-data/hacktrain.csv')\n",
        "test = pd.read_csv('/kaggle/input/summer-analytics-ndvi-data/hacktest.csv')\n",
        "\n",
        "print(\"Train shape:\", train.shape)\n",
        "print(\"Test shape:\", test.shape)\n",
        "\n",
        "ndvi_cols = [col for col in train.columns if '_N' in col]\n",
        "\n",
        "train[ndvi_cols] = train[ndvi_cols].interpolate(axis=1, limit_direction='both')\n",
        "test[ndvi_cols] = test[ndvi_cols].interpolate(axis=1, limit_direction='both')\n",
        "\n",
        "\n",
        "def extract_features(df):\n",
        "    f = pd.DataFrame()\n",
        "    f['mean'] = df[ndvi_cols].mean(axis=1)\n",
        "    f['std'] = df[ndvi_cols].std(axis=1)\n",
        "    f['min'] = df[ndvi_cols].min(axis=1)\n",
        "    f['max'] = df[ndvi_cols].max(axis=1)\n",
        "    f['range'] = f['max'] - f['min']\n",
        "    f['skew'] = df[ndvi_cols].skew(axis=1)\n",
        "    f['first'] = df[ndvi_cols].iloc[:, 0]\n",
        "    f['last'] = df[ndvi_cols].iloc[:, -1]\n",
        "    f['trend'] = f['last'] - f['first']\n",
        "    return f\n",
        "\n",
        "X_train = extract_features(train)\n",
        "X_test = extract_features(test)\n",
        "y_train = train['class']\n",
        "test_ids = test['ID']\n",
        "\n",
        "\n",
        "le = LabelEncoder()\n",
        "y_train_enc = le.fit_transform(y_train)\n",
        "\n",
        "model = make_pipeline(StandardScaler(), LogisticRegression(multi_class='multinomial', solver='saga', max_iter=1000))\n",
        "model.fit(X_train, y_train_enc)\n",
        "\n",
        "\n",
        "preds = model.predict(X_test)\n",
        "pred_labels = le.inverse_transform(preds)\n",
        "\n",
        "submission = pd.DataFrame({'ID': test_ids, 'class': pred_labels})\n",
        "submission.to_csv('submission.csv', index=False)\n",
        "print(\"✅ Saved submission.csv\")\n"
      ],
      "metadata": {
        "_uuid": "8f2839f25d086af736a60e9eeb907d3b93b6e0e5",
        "_cell_guid": "b1076dfc-b9ad-4769-8c92-a6c4dae69d19",
        "trusted": true,
        "execution": {
          "iopub.status.busy": "2025-06-11T16:40:51.383451Z",
          "iopub.execute_input": "2025-06-11T16:40:51.383796Z",
          "iopub.status.idle": "2025-06-11T16:40:58.059852Z",
          "shell.execute_reply.started": "2025-06-11T16:40:51.383772Z",
          "shell.execute_reply": "2025-06-11T16:40:58.058771Z"
        },
        "id": "T4qHvx4UVas9",
        "outputId": "770b243b-ddcc-4afa-ce29-16bc4a9a9f17"
      },
      "outputs": [
        {
          "name": "stdout",
          "text": "/kaggle/input/summer-analytics-ndvi-data/hacktest.csv\n/kaggle/input/summer-analytics-ndvi-data/hacktrain.csv\nTrain shape: (8000, 30)\nTest shape: (2845, 29)\n✅ Saved submission.csv\n",
          "output_type": "stream"
        }
      ],
      "execution_count": null
    }
  ]
}